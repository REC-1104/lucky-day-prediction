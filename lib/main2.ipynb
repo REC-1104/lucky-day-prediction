{
 "cells": [
  {
   "cell_type": "markdown",
   "metadata": {},
   "source": [
    "### 🔮 FUNKY LUCKY DAY PREDICTION MODEL 🔮"
   ]
  },
  {
   "cell_type": "markdown",
   "metadata": {},
   "source": [
    "Welcome, fellow adventurer, to the realm of the unknown! Prepare yourself to uncover the secrets of your fortunate days with our cutting-edge Lucky Day Prediction Model. Powered by AI and sprinkled with a dash of magic, this model is designed to decipher the cosmic patterns and unveil the days when luck will be on your side."
   ]
  },
  {
   "cell_type": "markdown",
   "metadata": {},
   "source": [
    "### IMPORTING LIBRARIES"
   ]
  },
  {
   "cell_type": "code",
   "execution_count": 58,
   "metadata": {},
   "outputs": [],
   "source": [
    "# Importing required libraries.\n",
    "\n",
    "import numpy as np\n",
    "import pandas as pd\n",
    "from matplotlib.colors import LinearSegmentedColormap\n",
    "import matplotlib.pyplot as plt\n",
    "import seaborn as sn\n",
    "from sklearn import linear_model\n",
    "from sklearn.model_selection import train_test_split\n",
    "from sklearn import metrics\n",
    "from sklearn.feature_selection import SelectKBest,f_regression\n",
    "import plotly.express as px\n",
    "import warnings \n",
    "warnings.simplefilter(\"ignore\")"
   ]
  },
  {
   "cell_type": "markdown",
   "metadata": {},
   "source": [
    "### LOADING THE DATASET"
   ]
  },
  {
   "cell_type": "code",
   "execution_count": 59,
   "metadata": {},
   "outputs": [
    {
     "data": {
      "text/html": [
       "<div>\n",
       "<style scoped>\n",
       "    .dataframe tbody tr th:only-of-type {\n",
       "        vertical-align: middle;\n",
       "    }\n",
       "\n",
       "    .dataframe tbody tr th {\n",
       "        vertical-align: top;\n",
       "    }\n",
       "\n",
       "    .dataframe thead th {\n",
       "        text-align: right;\n",
       "    }\n",
       "</style>\n",
       "<table border=\"1\" class=\"dataframe\">\n",
       "  <thead>\n",
       "    <tr style=\"text-align: right;\">\n",
       "      <th></th>\n",
       "      <th>Birthdate</th>\n",
       "      <th>Zodiac Sign</th>\n",
       "      <th>Lucky Number</th>\n",
       "      <th>Lucky Charms</th>\n",
       "      <th>Rituals Followed</th>\n",
       "      <th>Lucky Day (%)</th>\n",
       "    </tr>\n",
       "  </thead>\n",
       "  <tbody>\n",
       "    <tr>\n",
       "      <th>0</th>\n",
       "      <td>1998-05-04</td>\n",
       "      <td>Taurus</td>\n",
       "      <td>7</td>\n",
       "      <td>Yes</td>\n",
       "      <td>Yes</td>\n",
       "      <td>70</td>\n",
       "    </tr>\n",
       "    <tr>\n",
       "      <th>1</th>\n",
       "      <td>1996-08-17</td>\n",
       "      <td>Leo</td>\n",
       "      <td>4</td>\n",
       "      <td>No</td>\n",
       "      <td>No</td>\n",
       "      <td>25</td>\n",
       "    </tr>\n",
       "    <tr>\n",
       "      <th>2</th>\n",
       "      <td>1993-01-02</td>\n",
       "      <td>Capricorn</td>\n",
       "      <td>9</td>\n",
       "      <td>Yes</td>\n",
       "      <td>Yes</td>\n",
       "      <td>80</td>\n",
       "    </tr>\n",
       "    <tr>\n",
       "      <th>3</th>\n",
       "      <td>1987-12-28</td>\n",
       "      <td>Capricorn</td>\n",
       "      <td>3</td>\n",
       "      <td>Yes</td>\n",
       "      <td>Yes</td>\n",
       "      <td>85</td>\n",
       "    </tr>\n",
       "    <tr>\n",
       "      <th>4</th>\n",
       "      <td>1994-07-03</td>\n",
       "      <td>Cancer</td>\n",
       "      <td>5</td>\n",
       "      <td>No</td>\n",
       "      <td>Yes</td>\n",
       "      <td>20</td>\n",
       "    </tr>\n",
       "  </tbody>\n",
       "</table>\n",
       "</div>"
      ],
      "text/plain": [
       "    Birthdate Zodiac Sign  Lucky Number Lucky Charms Rituals Followed   \n",
       "0  1998-05-04      Taurus             7          Yes              Yes  \\\n",
       "1  1996-08-17         Leo             4           No               No   \n",
       "2  1993-01-02   Capricorn             9          Yes              Yes   \n",
       "3  1987-12-28   Capricorn             3          Yes              Yes   \n",
       "4  1994-07-03      Cancer             5           No              Yes   \n",
       "\n",
       "   Lucky Day (%)  \n",
       "0             70  \n",
       "1             25  \n",
       "2             80  \n",
       "3             85  \n",
       "4             20  "
      ]
     },
     "execution_count": 59,
     "metadata": {},
     "output_type": "execute_result"
    }
   ],
   "source": [
    "# Loading the dataset obtained by mystical sources.\n",
    "\n",
    "df = pd.read_csv(\"luckyDay.csv\")\n",
    "df.head()"
   ]
  },
  {
   "cell_type": "code",
   "execution_count": 60,
   "metadata": {},
   "outputs": [],
   "source": [
    "# Converting the ['Birthdate'] dtype into int.\n",
    "\n",
    "df['Birthdate'] = df['Birthdate'].str.replace('-', '').astype('int')"
   ]
  },
  {
   "cell_type": "code",
   "execution_count": 61,
   "metadata": {},
   "outputs": [
    {
     "name": "stdout",
     "output_type": "stream",
     "text": [
      "Taurus : 1\n",
      "Leo : 2\n",
      "Capricorn : 3\n",
      "Cancer : 4\n",
      "Virgo : 5\n",
      "Pisces : 6\n",
      "Libra : 7\n",
      "Scorpio : 8\n",
      "Aries : 9\n",
      "Aquarius : 10\n",
      "Gemini : 11\n",
      "Sagittarius : 12\n"
     ]
    }
   ],
   "source": [
    "# Converting ['Zodiac Sign'] dtype into int.\n",
    "\n",
    "zodiac_mapping = {zodiac: index for index, zodiac in enumerate(df['Zodiac Sign'].unique())}\n",
    "df['Zodiac Sign'] = df['Zodiac Sign'].map(zodiac_mapping).astype(int)+1;\n",
    "for zodiac, number in zodiac_mapping.items():\n",
    "    print(zodiac,\":\",number+1)"
   ]
  },
  {
   "cell_type": "code",
   "execution_count": 62,
   "metadata": {},
   "outputs": [],
   "source": [
    "# Converting ['Lucky Charms','Rituals Followed'] dtypes into int.\n",
    "\n",
    "YN_mapping = {YN: index for index, YN in enumerate(df['Lucky Charms'].unique())}\n",
    "\n",
    "df['Lucky Charms'] = df['Lucky Charms'].map(YN_mapping).astype(int)+1\n",
    "\n",
    "df['Rituals Followed'] = df['Rituals Followed'].map(YN_mapping).astype(int)+1\n",
    "\n",
    "# Yes :2 \n",
    "# No : 1"
   ]
  },
  {
   "cell_type": "markdown",
   "metadata": {},
   "source": [
    "### EDA"
   ]
  },
  {
   "cell_type": "code",
   "execution_count": 63,
   "metadata": {},
   "outputs": [
    {
     "data": {
      "text/plain": [
       "(323, 6)"
      ]
     },
     "execution_count": 63,
     "metadata": {},
     "output_type": "execute_result"
    }
   ],
   "source": [
    "# Shape of the dataset.\n",
    "\n",
    "df.shape"
   ]
  },
  {
   "cell_type": "code",
   "execution_count": 64,
   "metadata": {},
   "outputs": [
    {
     "name": "stdout",
     "output_type": "stream",
     "text": [
      "<class 'pandas.core.frame.DataFrame'>\n",
      "RangeIndex: 323 entries, 0 to 322\n",
      "Data columns (total 6 columns):\n",
      " #   Column            Non-Null Count  Dtype\n",
      "---  ------            --------------  -----\n",
      " 0   Birthdate         323 non-null    int32\n",
      " 1   Zodiac Sign       323 non-null    int32\n",
      " 2   Lucky Number      323 non-null    int64\n",
      " 3   Lucky Charms      323 non-null    int32\n",
      " 4   Rituals Followed  323 non-null    int32\n",
      " 5   Lucky Day (%)     323 non-null    int64\n",
      "dtypes: int32(4), int64(2)\n",
      "memory usage: 10.2 KB\n"
     ]
    }
   ],
   "source": [
    "# Info about the dataset.\n",
    "\n",
    "df.info()"
   ]
  },
  {
   "cell_type": "markdown",
   "metadata": {},
   "source": [
    "From the above output we can infer that the given dataset DO NOT contain any NULL values."
   ]
  },
  {
   "cell_type": "code",
   "execution_count": 65,
   "metadata": {},
   "outputs": [
    {
     "data": {
      "text/html": [
       "<div>\n",
       "<style scoped>\n",
       "    .dataframe tbody tr th:only-of-type {\n",
       "        vertical-align: middle;\n",
       "    }\n",
       "\n",
       "    .dataframe tbody tr th {\n",
       "        vertical-align: top;\n",
       "    }\n",
       "\n",
       "    .dataframe thead th {\n",
       "        text-align: right;\n",
       "    }\n",
       "</style>\n",
       "<table border=\"1\" class=\"dataframe\">\n",
       "  <thead>\n",
       "    <tr style=\"text-align: right;\">\n",
       "      <th></th>\n",
       "      <th>Birthdate</th>\n",
       "      <th>Zodiac Sign</th>\n",
       "      <th>Lucky Number</th>\n",
       "      <th>Lucky Charms</th>\n",
       "      <th>Rituals Followed</th>\n",
       "      <th>Lucky Day (%)</th>\n",
       "    </tr>\n",
       "  </thead>\n",
       "  <tbody>\n",
       "    <tr>\n",
       "      <th>count</th>\n",
       "      <td>3.230000e+02</td>\n",
       "      <td>323.000000</td>\n",
       "      <td>323.000000</td>\n",
       "      <td>323.000000</td>\n",
       "      <td>323.000000</td>\n",
       "      <td>323.000000</td>\n",
       "    </tr>\n",
       "    <tr>\n",
       "      <th>mean</th>\n",
       "      <td>1.993031e+07</td>\n",
       "      <td>7.095975</td>\n",
       "      <td>4.882353</td>\n",
       "      <td>1.154799</td>\n",
       "      <td>1.359133</td>\n",
       "      <td>58.591331</td>\n",
       "    </tr>\n",
       "    <tr>\n",
       "      <th>std</th>\n",
       "      <td>3.560420e+04</td>\n",
       "      <td>3.209083</td>\n",
       "      <td>2.661859</td>\n",
       "      <td>0.362274</td>\n",
       "      <td>0.480491</td>\n",
       "      <td>24.554038</td>\n",
       "    </tr>\n",
       "    <tr>\n",
       "      <th>min</th>\n",
       "      <td>1.986032e+07</td>\n",
       "      <td>1.000000</td>\n",
       "      <td>1.000000</td>\n",
       "      <td>1.000000</td>\n",
       "      <td>1.000000</td>\n",
       "      <td>15.000000</td>\n",
       "    </tr>\n",
       "    <tr>\n",
       "      <th>25%</th>\n",
       "      <td>1.990101e+07</td>\n",
       "      <td>4.000000</td>\n",
       "      <td>3.000000</td>\n",
       "      <td>1.000000</td>\n",
       "      <td>1.000000</td>\n",
       "      <td>30.000000</td>\n",
       "    </tr>\n",
       "    <tr>\n",
       "      <th>50%</th>\n",
       "      <td>1.993012e+07</td>\n",
       "      <td>7.000000</td>\n",
       "      <td>5.000000</td>\n",
       "      <td>1.000000</td>\n",
       "      <td>1.000000</td>\n",
       "      <td>60.000000</td>\n",
       "    </tr>\n",
       "    <tr>\n",
       "      <th>75%</th>\n",
       "      <td>1.995598e+07</td>\n",
       "      <td>10.000000</td>\n",
       "      <td>7.000000</td>\n",
       "      <td>1.000000</td>\n",
       "      <td>2.000000</td>\n",
       "      <td>80.000000</td>\n",
       "    </tr>\n",
       "    <tr>\n",
       "      <th>max</th>\n",
       "      <td>1.999061e+07</td>\n",
       "      <td>12.000000</td>\n",
       "      <td>9.000000</td>\n",
       "      <td>2.000000</td>\n",
       "      <td>2.000000</td>\n",
       "      <td>90.000000</td>\n",
       "    </tr>\n",
       "  </tbody>\n",
       "</table>\n",
       "</div>"
      ],
      "text/plain": [
       "          Birthdate  Zodiac Sign  Lucky Number  Lucky Charms   \n",
       "count  3.230000e+02   323.000000    323.000000    323.000000  \\\n",
       "mean   1.993031e+07     7.095975      4.882353      1.154799   \n",
       "std    3.560420e+04     3.209083      2.661859      0.362274   \n",
       "min    1.986032e+07     1.000000      1.000000      1.000000   \n",
       "25%    1.990101e+07     4.000000      3.000000      1.000000   \n",
       "50%    1.993012e+07     7.000000      5.000000      1.000000   \n",
       "75%    1.995598e+07    10.000000      7.000000      1.000000   \n",
       "max    1.999061e+07    12.000000      9.000000      2.000000   \n",
       "\n",
       "       Rituals Followed  Lucky Day (%)  \n",
       "count        323.000000     323.000000  \n",
       "mean           1.359133      58.591331  \n",
       "std            0.480491      24.554038  \n",
       "min            1.000000      15.000000  \n",
       "25%            1.000000      30.000000  \n",
       "50%            1.000000      60.000000  \n",
       "75%            2.000000      80.000000  \n",
       "max            2.000000      90.000000  "
      ]
     },
     "execution_count": 65,
     "metadata": {},
     "output_type": "execute_result"
    }
   ],
   "source": [
    "# Central tendency and dispersion of the dataset.\n",
    "\n",
    "df.describe()"
   ]
  },
  {
   "cell_type": "markdown",
   "metadata": {},
   "source": [
    "### DATA VISUALIZATION"
   ]
  },
  {
   "cell_type": "code",
   "execution_count": 66,
   "metadata": {},
   "outputs": [
    {
     "data": {
      "text/plain": [
       "<seaborn.axisgrid.PairGrid at 0x178c4069950>"
      ]
     },
     "execution_count": 66,
     "metadata": {},
     "output_type": "execute_result"
    },
    {
     "data": {
      "image/png": "[encoded data removed]",
      "text/plain": [
       "<Figure size 1000x1000 with 20 Axes>"
      ]
     },
     "metadata": {},
     "output_type": "display_data"
    }
   ],
   "source": [
    "cols = ['Zodiac Sign', 'Lucky Number', 'Lucky Charms', 'Rituals Followed']\n",
    "sn.pairplot(df[cols])"
   ]
  },
  {
   "cell_type": "markdown",
   "metadata": {},
   "source": [
    "The above graph gives me relationships between every two columns in the dataset."
   ]
  },
  {
   "cell_type": "code",
   "execution_count": 67,
   "metadata": {},
   "outputs": [
    {
     "data": {
      "application/vnd.plotly.v1+json": {
       "config": {
        "plotlyServerURL": "https://plot.ly"
       },
       "data": [
        {
         "hovertemplate": "Lucky Number=%{x}<br>Zodiac Sign=%{y}<br>Lucky Day (%)=%{z}<br>Lucky Charms=%{marker.color}<extra></extra>",
         "legendgroup": "",
         "marker": {
          "color": [
           1,
           2,
           1,
           1,
           2,
           1,
           1,
           2,
           1,
           1,
           2,
           1,
           1,
           1,
           2,
           1,
           1,
           2,
           1,
           2,
           1,
           2,
           1,
           1,
           1,
           1,
           2,
           1,
           1,
           2,
           1,
           1,
           1,
           2,
           1,
           1,
           2,
           1,
           1,
           2,
           1,
           1,
           1,
           2,
           1,
           1,
           1,
           2,
           1,
           2,
           1,
           1,
           1,
           2,
           1,
           1,
           2,
           1,
           1,
           1,
           2,
           1,
           1,
           2,
           1,
           1,
           2,
           1,
           2,
           1,
           1,
           1,
           2,
           1,
           2,
           1,
           2,
           1,
           1,
           1,
           1,
           1,
           2,
           1,
           1,
           2,
           1,
           1,
           1,
           2,
           1,
           1,
           2,
           1,
           1,
           1,
           1,
           2,
           1,
           1,
           1,
           1,
           1,
           2,
           2,
           1,
           1,
           1,
           2,
           1,
           1,
           1,
           1,
           2,
           1,
           1,
           1,
           2,
           1,
           2,
           1,
           1,
           1,
           2,
           1,
           1,
           1,
           1,
           2,
           1,
           1,
           1,
           2,
           1,
           1,
           1,
           1,
           2,
           1,
           2,
           1,
           1,
           1,
           2,
           1,
           1,
           1,
           1,
           2,
           1,
           1,
           1,
           1,
           1,
           1,
           1,
           1,
           2,
           1,
           1,
           2,
           1,
           1,
           1,
           1,
           2,
           1,
           1,
           1,
           1,
           1,
           1,
           1,
           2,
           1,
           1,
           1,
           1,
           1,
           1,
           2,
           1,
           1,
           1,
           1,
           1,
           1,
           1,
           1,
           2,
           1,
           1,
           1,
           1,
           1,
           1,
           1,
           1,
           1,
           1,
           1,
           1,
           1,
           1,
           2,
           1,
           1,
           1,
           1,
           1,
           1,
           1,
           1,
           1,
           1,
           1,
           1,
           1,
           1,
           1,
           1,
           1,
           1,
           1,
           1,
           1,
           1,
           1,
           1,
           1,
           1,
           1,
           1,
           1,
           1,
           1,
           1,
           1,
           1,
           1,
           1,
           1,
           1,
           1,
           1,
           1,
           1,
           1,
           1,
           1,
           1,
           1,
           1,
           1,
           1,
           1,
           1,
           1,
           1,
           1,
           1,
           1,
           1,
           1,
           1,
           1,
           1,
           1,
           1,
           1,
           1,
           1,
           1,
           1,
           1,
           1,
           1,
           1,
           1,
           1,
           1,
           1,
           1,
           1,
           1,
           1,
           1,
           1,
           1,
           1,
           1,
           1,
           1,
           1,
           1,
           1,
           1,
           1,
           1,
           1,
           1,
           1,
           1,
           1,
           1,
           1,
           1,
           1,
           1,
           1,
           1,
           1,
           1,
           1,
           1,
           1,
           1,
           1,
           1,
           1,
           1,
           1,
           1
          ],
          "coloraxis": "coloraxis",
          "size": 4,
          "symbol": "circle"
         },
         "mode": "markers",
         "name": "",
         "scene": "scene",
         "showlegend": false,
         "type": "scatter3d",
         "x": [
          7,
          4,
          9,
          3,
          5,
          2,
          6,
          1,
          8,
          3,
          7,
          4,
          9,
          2,
          5,
          1,
          6,
          3,
          8,
          7,
          4,
          9,
          2,
          6,
          3,
          1,
          5,
          8,
          4,
          2,
          7,
          9,
          4,
          1,
          6,
          3,
          5,
          9,
          2,
          7,
          6,
          3,
          1,
          8,
          5,
          2,
          9,
          4,
          1,
          7,
          6,
          3,
          8,
          5,
          2,
          9,
          4,
          1,
          6,
          3,
          8,
          7,
          2,
          5,
          9,
          4,
          1,
          6,
          3,
          8,
          7,
          2,
          9,
          4,
          3,
          1,
          6,
          5,
          2,
          9,
          4,
          1,
          8,
          7,
          2,
          6,
          3,
          9,
          4,
          1,
          8,
          5,
          2,
          7,
          6,
          3,
          9,
          4,
          1,
          8,
          5,
          6,
          2,
          7,
          3,
          9,
          4,
          1,
          6,
          5,
          2,
          8,
          3,
          9,
          4,
          1,
          6,
          5,
          2,
          7,
          3,
          9,
          4,
          1,
          8,
          5,
          2,
          7,
          6,
          3,
          9,
          4,
          1,
          8,
          5,
          2,
          7,
          6,
          3,
          9,
          4,
          1,
          8,
          5,
          2,
          7,
          4,
          9,
          6,
          3,
          1,
          8,
          5,
          2,
          7,
          4,
          9,
          6,
          3,
          1,
          8,
          5,
          2,
          7,
          4,
          9,
          6,
          3,
          1,
          8,
          5,
          2,
          9,
          6,
          3,
          1,
          8,
          5,
          2,
          9,
          4,
          7,
          3,
          1,
          8,
          5,
          2,
          9,
          4,
          7,
          3,
          1,
          8,
          5,
          2,
          9,
          4,
          7,
          3,
          1,
          8,
          5,
          2,
          9,
          4,
          7,
          3,
          1,
          8,
          5,
          2,
          9,
          4,
          7,
          3,
          1,
          8,
          5,
          2,
          9,
          4,
          7,
          3,
          1,
          8,
          5,
          2,
          9,
          4,
          7,
          3,
          1,
          8,
          5,
          2,
          9,
          4,
          7,
          3,
          1,
          8,
          5,
          2,
          9,
          4,
          7,
          3,
          1,
          8,
          5,
          2,
          9,
          4,
          7,
          3,
          1,
          8,
          5,
          2,
          9,
          4,
          7,
          3,
          1,
          8,
          5,
          2,
          9,
          4,
          7,
          3,
          1,
          8,
          5,
          2,
          9,
          4,
          7,
          3,
          1,
          8,
          5,
          2,
          9,
          4,
          7,
          3,
          1,
          8,
          5,
          2,
          9,
          4,
          7,
          3,
          1,
          8,
          5,
          2,
          9,
          4,
          7,
          3,
          1,
          8,
          5,
          2,
          9,
          4,
          7,
          3,
          1,
          8,
          5,
          2,
          9,
          4,
          7,
          3,
          1,
          8,
          5,
          2
         ],
         "y": [
          1,
          2,
          3,
          3,
          4,
          5,
          6,
          7,
          4,
          8,
          9,
          10,
          5,
          11,
          6,
          8,
          3,
          9,
          2,
          3,
          5,
          10,
          12,
          11,
          7,
          10,
          12,
          1,
          5,
          9,
          5,
          3,
          7,
          9,
          2,
          6,
          7,
          10,
          5,
          10,
          8,
          1,
          12,
          4,
          9,
          5,
          12,
          11,
          8,
          1,
          2,
          12,
          6,
          7,
          2,
          1,
          2,
          6,
          8,
          11,
          10,
          5,
          9,
          8,
          4,
          10,
          8,
          1,
          12,
          9,
          4,
          7,
          9,
          2,
          10,
          5,
          11,
          10,
          8,
          1,
          7,
          4,
          9,
          7,
          10,
          11,
          12,
          11,
          3,
          2,
          3,
          4,
          7,
          6,
          12,
          10,
          7,
          10,
          8,
          11,
          10,
          7,
          6,
          8,
          2,
          12,
          6,
          7,
          11,
          3,
          1,
          6,
          5,
          1,
          3,
          11,
          3,
          2,
          12,
          2,
          8,
          6,
          4,
          12,
          1,
          10,
          7,
          9,
          2,
          12,
          4,
          7,
          11,
          3,
          5,
          9,
          7,
          4,
          1,
          12,
          11,
          6,
          7,
          1,
          3,
          7,
          9,
          2,
          3,
          4,
          8,
          11,
          10,
          7,
          6,
          4,
          12,
          4,
          7,
          11,
          3,
          5,
          9,
          2,
          3,
          4,
          8,
          11,
          10,
          7,
          6,
          4,
          12,
          4,
          7,
          11,
          10,
          7,
          6,
          4,
          12,
          4,
          7,
          11,
          10,
          7,
          6,
          4,
          12,
          4,
          7,
          11,
          10,
          7,
          6,
          4,
          12,
          4,
          7,
          11,
          10,
          7,
          6,
          4,
          12,
          4,
          7,
          11,
          10,
          7,
          6,
          4,
          12,
          4,
          7,
          11,
          10,
          7,
          6,
          4,
          12,
          4,
          7,
          11,
          10,
          7,
          6,
          4,
          12,
          4,
          7,
          11,
          10,
          7,
          6,
          4,
          12,
          4,
          7,
          11,
          10,
          7,
          6,
          4,
          12,
          4,
          7,
          11,
          10,
          7,
          6,
          4,
          12,
          4,
          7,
          11,
          10,
          7,
          6,
          4,
          12,
          4,
          7,
          11,
          10,
          7,
          6,
          4,
          12,
          4,
          7,
          11,
          10,
          7,
          6,
          4,
          12,
          4,
          7,
          11,
          10,
          7,
          6,
          4,
          12,
          4,
          7,
          11,
          10,
          7,
          6,
          4,
          12,
          4,
          7,
          11,
          10,
          7,
          6,
          4,
          12,
          4,
          7,
          11,
          10,
          7,
          6,
          4,
          12,
          4,
          7,
          11,
          10,
          7,
          6,
          4,
          12,
          4,
          7,
          11,
          10,
          7,
          6
         ],
         "z": [
          70,
          25,
          80,
          85,
          20,
          60,
          70,
          30,
          75,
          90,
          55,
          40,
          80,
          50,
          30,
          70,
          25,
          15,
          60,
          55,
          70,
          40,
          85,
          80,
          60,
          25,
          70,
          75,
          20,
          35,
          90,
          60,
          55,
          30,
          80,
          85,
          20,
          55,
          90,
          40,
          70,
          50,
          65,
          15,
          75,
          80,
          25,
          60,
          85,
          30,
          55,
          90,
          70,
          20,
          75,
          40,
          30,
          70,
          15,
          80,
          55,
          90,
          60,
          25,
          75,
          20,
          70,
          65,
          15,
          80,
          85,
          25,
          55,
          70,
          40,
          60,
          25,
          70,
          85,
          20,
          55,
          80,
          35,
          90,
          75,
          15,
          50,
          60,
          70,
          30,
          55,
          90,
          25,
          85,
          20,
          55,
          90,
          35,
          25,
          70,
          80,
          75,
          85,
          30,
          15,
          60,
          55,
          90,
          25,
          80,
          85,
          30,
          70,
          55,
          90,
          60,
          75,
          20,
          80,
          55,
          70,
          15,
          60,
          65,
          20,
          90,
          70,
          40,
          30,
          85,
          55,
          90,
          15,
          60,
          70,
          25,
          80,
          35,
          75,
          45,
          55,
          65,
          20,
          25,
          75,
          90,
          60,
          55,
          70,
          85,
          25,
          90,
          60,
          70,
          20,
          55,
          80,
          85,
          25,
          90,
          75,
          20,
          70,
          55,
          90,
          60,
          85,
          25,
          80,
          70,
          20,
          55,
          90,
          60,
          85,
          25,
          80,
          70,
          20,
          55,
          90,
          60,
          85,
          25,
          80,
          70,
          20,
          55,
          90,
          60,
          85,
          25,
          80,
          70,
          20,
          55,
          90,
          60,
          85,
          25,
          80,
          70,
          20,
          55,
          90,
          60,
          85,
          25,
          80,
          70,
          20,
          55,
          90,
          60,
          85,
          25,
          80,
          70,
          20,
          55,
          90,
          60,
          85,
          25,
          80,
          70,
          20,
          55,
          90,
          60,
          85,
          25,
          80,
          70,
          20,
          55,
          90,
          60,
          85,
          25,
          80,
          70,
          20,
          55,
          90,
          60,
          85,
          25,
          80,
          70,
          20,
          55,
          90,
          60,
          85,
          25,
          80,
          70,
          20,
          55,
          90,
          60,
          85,
          25,
          80,
          70,
          20,
          55,
          90,
          60,
          85,
          25,
          80,
          70,
          20,
          55,
          90,
          60,
          85,
          25,
          80,
          70,
          20,
          55,
          90,
          60,
          85,
          25,
          80,
          70,
          20,
          55,
          90,
          60,
          85,
          25,
          80,
          70,
          20,
          55,
          90,
          60,
          85,
          25,
          80,
          70,
          20,
          55,
          90,
          60,
          85,
          25,
          80,
          70,
          20,
          55,
          90,
          60,
          85,
          25,
          80,
          70,
          20
         ]
        }
       ],
       "layout": {
        "autosize": false,
        "coloraxis": {
         "colorbar": {
          "title": {
           "text": "Lucky Charms"
          }
         },
         "colorscale": [
          [
           0,
           "#0d0887"
          ],
          [
           0.1111111111111111,
           "#46039f"
          ],
          [
           0.2222222222222222,
           "#7201a8"
          ],
          [
           0.3333333333333333,
           "#9c179e"
          ],
          [
           0.4444444444444444,
           "#bd3786"
          ],
          [
           0.5555555555555556,
           "#d8576b"
          ],
          [
           0.6666666666666666,
           "#ed7953"
          ],
          [
           0.7777777777777778,
           "#fb9f3a"
          ],
          [
           0.8888888888888888,
           "#fdca26"
          ],
          [
           1,
           "#f0f921"
          ]
         ]
        },
        "height": 600,
        "legend": {
         "tracegroupgap": 0
        },
        "margin": {
         "t": 60
        },
        "scene": {
         "domain": {
          "x": [
           0,
           1
          ],
          "y": [
           0,
           1
          ]
         },
         "xaxis": {
          "title": {
           "text": "Lucky Number"
          }
         },
         "yaxis": {
          "title": {
           "text": "Zodiac Sign"
          }
         },
         "zaxis": {
          "title": {
           "text": "Lucky Day (%)"
          }
         }
        },
        "template": {
         "data": {
          "bar": [
           {
            "error_x": {
             "color": "#2a3f5f"
            },
            "error_y": {
             "color": "#2a3f5f"
            },
            "marker": {
             "line": {
              "color": "#E5ECF6",
              "width": 0.5
             },
             "pattern": {
              "fillmode": "overlay",
              "size": 10,
              "solidity": 0.2
             }
            },
            "type": "bar"
           }
          ],
          "barpolar": [
           {
            "marker": {
             "line": {
              "color": "#E5ECF6",
              "width": 0.5
             },
             "pattern": {
              "fillmode": "overlay",
              "size": 10,
              "solidity": 0.2
             }
            },
            "type": "barpolar"
           }
          ],
          "carpet": [
           {
            "aaxis": {
             "endlinecolor": "#2a3f5f",
             "gridcolor": "white",
             "linecolor": "white",
             "minorgridcolor": "white",
             "startlinecolor": "#2a3f5f"
            },
            "baxis": {
             "endlinecolor": "#2a3f5f",
             "gridcolor": "white",
             "linecolor": "white",
             "minorgridcolor": "white",
             "startlinecolor": "#2a3f5f"
            },
            "type": "carpet"
           }
          ],
          "choropleth": [
           {
            "colorbar": {
             "outlinewidth": 0,
             "ticks": ""
            },
            "type": "choropleth"
           }
          ],
          "contour": [
           {
            "colorbar": {
             "outlinewidth": 0,
             "ticks": ""
            },
            "colorscale": [
             [
              0,
              "#0d0887"
             ],
             [
              0.1111111111111111,
              "#46039f"
             ],
             [
              0.2222222222222222,
              "#7201a8"
             ],
             [
              0.3333333333333333,
              "#9c179e"
             ],
             [
              0.4444444444444444,
              "#bd3786"
             ],
             [
              0.5555555555555556,
              "#d8576b"
             ],
             [
              0.6666666666666666,
              "#ed7953"
             ],
             [
              0.7777777777777778,
              "#fb9f3a"
             ],
             [
              0.8888888888888888,
              "#fdca26"
             ],
             [
              1,
              "#f0f921"
             ]
            ],
            "type": "contour"
           }
          ],
          "contourcarpet": [
           {
            "colorbar": {
             "outlinewidth": 0,
             "ticks": ""
            },
            "type": "contourcarpet"
           }
          ],
          "heatmap": [
           {
            "colorbar": {
             "outlinewidth": 0,
             "ticks": ""
            },
            "colorscale": [
             [
              0,
              "#0d0887"
             ],
             [
              0.1111111111111111,
              "#46039f"
             ],
             [
              0.2222222222222222,
              "#7201a8"
             ],
             [
              0.3333333333333333,
              "#9c179e"
             ],
             [
              0.4444444444444444,
              "#bd3786"
             ],
             [
              0.5555555555555556,
              "#d8576b"
             ],
             [
              0.6666666666666666,
              "#ed7953"
             ],
             [
              0.7777777777777778,
              "#fb9f3a"
             ],
             [
              0.8888888888888888,
              "#fdca26"
             ],
             [
              1,
              "#f0f921"
             ]
            ],
            "type": "heatmap"
           }
          ],
          "heatmapgl": [
           {
            "colorbar": {
             "outlinewidth": 0,
             "ticks": ""
            },
            "colorscale": [
             [
              0,
              "#0d0887"
             ],
             [
              0.1111111111111111,
              "#46039f"
             ],
             [
              0.2222222222222222,
              "#7201a8"
             ],
             [
              0.3333333333333333,
              "#9c179e"
             ],
             [
              0.4444444444444444,
              "#bd3786"
             ],
             [
              0.5555555555555556,
              "#d8576b"
             ],
             [
              0.6666666666666666,
              "#ed7953"
             ],
             [
              0.7777777777777778,
              "#fb9f3a"
             ],
             [
              0.8888888888888888,
              "#fdca26"
             ],
             [
              1,
              "#f0f921"
             ]
            ],
            "type": "heatmapgl"
           }
          ],
          "histogram": [
           {
            "marker": {
             "pattern": {
              "fillmode": "overlay",
              "size": 10,
              "solidity": 0.2
             }
            },
            "type": "histogram"
           }
          ],
          "histogram2d": [
           {
            "colorbar": {
             "outlinewidth": 0,
             "ticks": ""
            },
            "colorscale": [
             [
              0,
              "#0d0887"
             ],
             [
              0.1111111111111111,
              "#46039f"
             ],
             [
              0.2222222222222222,
              "#7201a8"
             ],
             [
              0.3333333333333333,
              "#9c179e"
             ],
             [
              0.4444444444444444,
              "#bd3786"
             ],
             [
              0.5555555555555556,
              "#d8576b"
             ],
             [
              0.6666666666666666,
              "#ed7953"
             ],
             [
              0.7777777777777778,
              "#fb9f3a"
             ],
             [
              0.8888888888888888,
              "#fdca26"
             ],
             [
              1,
              "#f0f921"
             ]
            ],
            "type": "histogram2d"
           }
          ],
          "histogram2dcontour": [
           {
            "colorbar": {
             "outlinewidth": 0,
             "ticks": ""
            },
            "colorscale": [
             [
              0,
              "#0d0887"
             ],
             [
              0.1111111111111111,
              "#46039f"
             ],
             [
              0.2222222222222222,
              "#7201a8"
             ],
             [
              0.3333333333333333,
              "#9c179e"
             ],
             [
              0.4444444444444444,
              "#bd3786"
             ],
             [
              0.5555555555555556,
              "#d8576b"
             ],
             [
              0.6666666666666666,
              "#ed7953"
             ],
             [
              0.7777777777777778,
              "#fb9f3a"
             ],
             [
              0.8888888888888888,
              "#fdca26"
             ],
             [
              1,
              "#f0f921"
             ]
            ],
            "type": "histogram2dcontour"
           }
          ],
          "mesh3d": [
           {
            "colorbar": {
             "outlinewidth": 0,
             "ticks": ""
            },
            "type": "mesh3d"
           }
          ],
          "parcoords": [
           {
            "line": {
             "colorbar": {
              "outlinewidth": 0,
              "ticks": ""
             }
            },
            "type": "parcoords"
           }
          ],
          "pie": [
           {
            "automargin": true,
            "type": "pie"
           }
          ],
          "scatter": [
           {
            "fillpattern": {
             "fillmode": "overlay",
             "size": 10,
             "solidity": 0.2
            },
            "type": "scatter"
           }
          ],
          "scatter3d": [
           {
            "line": {
             "colorbar": {
              "outlinewidth": 0,
              "ticks": ""
             }
            },
            "marker": {
             "colorbar": {
              "outlinewidth": 0,
              "ticks": ""
             }
            },
            "type": "scatter3d"
           }
          ],
          "scattercarpet": [
           {
            "marker": {
             "colorbar": {
              "outlinewidth": 0,
              "ticks": ""
             }
            },
            "type": "scattercarpet"
           }
          ],
          "scattergeo": [
           {
            "marker": {
             "colorbar": {
              "outlinewidth": 0,
              "ticks": ""
             }
            },
            "type": "scattergeo"
           }
          ],
          "scattergl": [
           {
            "marker": {
             "colorbar": {
              "outlinewidth": 0,
              "ticks": ""
             }
            },
            "type": "scattergl"
           }
          ],
          "scattermapbox": [
           {
            "marker": {
             "colorbar": {
              "outlinewidth": 0,
              "ticks": ""
             }
            },
            "type": "scattermapbox"
           }
          ],
          "scatterpolar": [
           {
            "marker": {
             "colorbar": {
              "outlinewidth": 0,
              "ticks": ""
             }
            },
            "type": "scatterpolar"
           }
          ],
          "scatterpolargl": [
           {
            "marker": {
             "colorbar": {
              "outlinewidth": 0,
              "ticks": ""
             }
            },
            "type": "scatterpolargl"
           }
          ],
          "scatterternary": [
           {
            "marker": {
             "colorbar": {
              "outlinewidth": 0,
              "ticks": ""
             }
            },
            "type": "scatterternary"
           }
          ],
          "surface": [
           {
            "colorbar": {
             "outlinewidth": 0,
             "ticks": ""
            },
            "colorscale": [
             [
              0,
              "#0d0887"
             ],
             [
              0.1111111111111111,
              "#46039f"
             ],
             [
              0.2222222222222222,
              "#7201a8"
             ],
             [
              0.3333333333333333,
              "#9c179e"
             ],
             [
              0.4444444444444444,
              "#bd3786"
             ],
             [
              0.5555555555555556,
              "#d8576b"
             ],
             [
              0.6666666666666666,
              "#ed7953"
             ],
             [
              0.7777777777777778,
              "#fb9f3a"
             ],
             [
              0.8888888888888888,
              "#fdca26"
             ],
             [
              1,
              "#f0f921"
             ]
            ],
            "type": "surface"
           }
          ],
          "table": [
           {
            "cells": {
             "fill": {
              "color": "#EBF0F8"
             },
             "line": {
              "color": "white"
             }
            },
            "header": {
             "fill": {
              "color": "#C8D4E3"
             },
             "line": {
              "color": "white"
             }
            },
            "type": "table"
           }
          ]
         },
         "layout": {
          "annotationdefaults": {
           "arrowcolor": "#2a3f5f",
           "arrowhead": 0,
           "arrowwidth": 1
          },
          "autotypenumbers": "strict",
          "coloraxis": {
           "colorbar": {
            "outlinewidth": 0,
            "ticks": ""
           }
          },
          "colorscale": {
           "diverging": [
            [
             0,
             "#8e0152"
            ],
            [
             0.1,
             "#c51b7d"
            ],
            [
             0.2,
             "#de77ae"
            ],
            [
             0.3,
             "#f1b6da"
            ],
            [
             0.4,
             "#fde0ef"
            ],
            [
             0.5,
             "#f7f7f7"
            ],
            [
             0.6,
             "#e6f5d0"
            ],
            [
             0.7,
             "#b8e186"
            ],
            [
             0.8,
             "#7fbc41"
            ],
            [
             0.9,
             "#4d9221"
            ],
            [
             1,
             "#276419"
            ]
           ],
           "sequential": [
            [
             0,
             "#0d0887"
            ],
            [
             0.1111111111111111,
             "#46039f"
            ],
            [
             0.2222222222222222,
             "#7201a8"
            ],
            [
             0.3333333333333333,
             "#9c179e"
            ],
            [
             0.4444444444444444,
             "#bd3786"
            ],
            [
             0.5555555555555556,
             "#d8576b"
            ],
            [
             0.6666666666666666,
             "#ed7953"
            ],
            [
             0.7777777777777778,
             "#fb9f3a"
            ],
            [
             0.8888888888888888,
             "#fdca26"
            ],
            [
             1,
             "#f0f921"
            ]
           ],
           "sequentialminus": [
            [
             0,
             "#0d0887"
            ],
            [
             0.1111111111111111,
             "#46039f"
            ],
            [
             0.2222222222222222,
             "#7201a8"
            ],
            [
             0.3333333333333333,
             "#9c179e"
            ],
            [
             0.4444444444444444,
             "#bd3786"
            ],
            [
             0.5555555555555556,
             "#d8576b"
            ],
            [
             0.6666666666666666,
             "#ed7953"
            ],
            [
             0.7777777777777778,
             "#fb9f3a"
            ],
            [
             0.8888888888888888,
             "#fdca26"
            ],
            [
             1,
             "#f0f921"
            ]
           ]
          },
          "colorway": [
           "#636efa",
           "#EF553B",
           "#00cc96",
           "#ab63fa",
           "#FFA15A",
           "#19d3f3",
           "#FF6692",
           "#B6E880",
           "#FF97FF",
           "#FECB52"
          ],
          "font": {
           "color": "#2a3f5f"
          },
          "geo": {
           "bgcolor": "white",
           "lakecolor": "white",
           "landcolor": "#E5ECF6",
           "showlakes": true,
           "showland": true,
           "subunitcolor": "white"
          },
          "hoverlabel": {
           "align": "left"
          },
          "hovermode": "closest",
          "mapbox": {
           "style": "light"
          },
          "paper_bgcolor": "white",
          "plot_bgcolor": "#E5ECF6",
          "polar": {
           "angularaxis": {
            "gridcolor": "white",
            "linecolor": "white",
            "ticks": ""
           },
           "bgcolor": "#E5ECF6",
           "radialaxis": {
            "gridcolor": "white",
            "linecolor": "white",
            "ticks": ""
           }
          },
          "scene": {
           "xaxis": {
            "backgroundcolor": "#E5ECF6",
            "gridcolor": "white",
            "gridwidth": 2,
            "linecolor": "white",
            "showbackground": true,
            "ticks": "",
            "zerolinecolor": "white"
           },
           "yaxis": {
            "backgroundcolor": "#E5ECF6",
            "gridcolor": "white",
            "gridwidth": 2,
            "linecolor": "white",
            "showbackground": true,
            "ticks": "",
            "zerolinecolor": "white"
           },
           "zaxis": {
            "backgroundcolor": "#E5ECF6",
            "gridcolor": "white",
            "gridwidth": 2,
            "linecolor": "white",
            "showbackground": true,
            "ticks": "",
            "zerolinecolor": "white"
           }
          },
          "shapedefaults": {
           "line": {
            "color": "#2a3f5f"
           }
          },
          "ternary": {
           "aaxis": {
            "gridcolor": "white",
            "linecolor": "white",
            "ticks": ""
           },
           "baxis": {
            "gridcolor": "white",
            "linecolor": "white",
            "ticks": ""
           },
           "bgcolor": "#E5ECF6",
           "caxis": {
            "gridcolor": "white",
            "linecolor": "white",
            "ticks": ""
           }
          },
          "title": {
           "x": 0.05
          },
          "xaxis": {
           "automargin": true,
           "gridcolor": "white",
           "linecolor": "white",
           "ticks": "",
           "title": {
            "standoff": 15
           },
           "zerolinecolor": "white",
           "zerolinewidth": 2
          },
          "yaxis": {
           "automargin": true,
           "gridcolor": "white",
           "linecolor": "white",
           "ticks": "",
           "title": {
            "standoff": 15
           },
           "zerolinecolor": "white",
           "zerolinewidth": 2
          }
         }
        },
        "title": {
         "text": "Scatter Plot"
        },
        "width": 800
       }
      }
     },
     "metadata": {},
     "output_type": "display_data"
    }
   ],
   "source": [
    "fig = px.scatter_3d(df, x='Lucky Number', y='Zodiac Sign', z='Lucky Day (%)', color='Lucky Charms')\n",
    "fig.update_layout(title='Scatter Plot', autosize=False , width=800, height=600)\n",
    "fig.update_traces(marker_size = 4)\n",
    "fig.show()"
   ]
  },
  {
   "cell_type": "markdown",
   "metadata": {},
   "source": [
    "The above 3d plot shows data distribution based on ['Zodiac Sign','Lucky Number','Lucky Day (%)','Lucky Charms']."
   ]
  },
  {
   "cell_type": "code",
   "execution_count": 68,
   "metadata": {},
   "outputs": [
    {
     "data": {
      "image/png": "[encoded data removed]",
      "text/plain": [
       "<Figure size 1000x500 with 2 Axes>"
      ]
     },
     "metadata": {},
     "output_type": "display_data"
    }
   ],
   "source": [
    "colors = LinearSegmentedColormap.from_list('blackg',[\"black\", \"g\"], N=256) \n",
    "fig, ax = plt.subplots(figsize=(10,5))\n",
    "sn.heatmap(df.corr(), annot=True, cmap = colors, fmt=\".1g\", cbar=True);\n",
    "plt.title('Correlation Matrix')\n",
    "plt.show()"
   ]
  },
  {
   "cell_type": "markdown",
   "metadata": {},
   "source": [
    "The above co relation matrix shows us co linearity between each and every column of the dataset."
   ]
  },
  {
   "cell_type": "markdown",
   "metadata": {},
   "source": [
    "From the above graphs we can get following observations :\n",
    "- Rituals followed and zodiac are two variables which have maximum co linearity.\n",
    "- The frequency of people in dataset having lucky charm is more than that of people not having it."
   ]
  },
  {
   "cell_type": "markdown",
   "metadata": {},
   "source": [
    "### APPLYING THE MULTIPLE LINEAR REGRESSION MODEL"
   ]
  },
  {
   "cell_type": "code",
   "execution_count": 69,
   "metadata": {},
   "outputs": [
    {
     "data": {
      "text/plain": [
       "['Birthdate',\n",
       " 'Zodiac Sign',\n",
       " 'Lucky Number',\n",
       " 'Lucky Charms',\n",
       " 'Rituals Followed']"
      ]
     },
     "execution_count": 69,
     "metadata": {},
     "output_type": "execute_result"
    }
   ],
   "source": [
    "# Segrigating the required variables and target feature.\n",
    "\n",
    "required_features=[]\n",
    "target = \"Lucky Day (%)\"\n",
    "for feature in df.columns :\n",
    "    if feature != target :\n",
    "         required_features.append(feature)\n",
    "required_features"
   ]
  },
  {
   "cell_type": "markdown",
   "metadata": {},
   "source": [
    "Selecting variables which are highly relevant for our model to reduce overfitting. SelectKBest by Sci-Kit learn is the algorithm for the purpose."
   ]
  },
  {
   "cell_type": "markdown",
   "metadata": {},
   "source": [
    "Also splitting the datset into test and train."
   ]
  },
  {
   "cell_type": "code",
   "execution_count": 70,
   "metadata": {},
   "outputs": [
    {
     "name": "stdout",
     "output_type": "stream",
     "text": [
      "Index(['Zodiac Sign', 'Lucky Number', 'Lucky Charms', 'Rituals Followed'], dtype='object')\n"
     ]
    }
   ],
   "source": [
    "X=df[required_features]\n",
    "y=df[target]\n",
    "k=4\n",
    "X_new = SelectKBest(f_regression, k=k).fit_transform(X, y)\n",
    "selected_features = X.columns[SelectKBest(f_regression, k=k).fit(X, y).get_support()]\n",
    "print(selected_features)\n",
    "train_X, test_X, train_y, test_y = train_test_split(X_new, y,test_size=0.3,random_state=47)"
   ]
  },
  {
   "cell_type": "markdown",
   "metadata": {},
   "source": [
    "From the above selection we get four best features :\n",
    "- Zodiac Sign\n",
    "- Lucky Number\n",
    "- Lucky Charms\n",
    "- Rituals Followed"
   ]
  },
  {
   "cell_type": "markdown",
   "metadata": {},
   "source": [
    "Using LinearRegression on the training data."
   ]
  },
  {
   "cell_type": "code",
   "execution_count": 71,
   "metadata": {},
   "outputs": [
    {
     "data": {
      "text/html": [
       "<style>#sk-container-id-4 {color: black;}#sk-container-id-4 pre{padding: 0;}#sk-container-id-4 div.sk-toggleable {background-color: white;}#sk-container-id-4 label.sk-toggleable__label {cursor: pointer;display: block;width: 100%;margin-bottom: 0;padding: 0.3em;box-sizing: border-box;text-align: center;}#sk-container-id-4 label.sk-toggleable__label-arrow:before {content: \"▸\";float: left;margin-right: 0.25em;color: #696969;}#sk-container-id-4 label.sk-toggleable__label-arrow:hover:before {color: black;}#sk-container-id-4 div.sk-estimator:hover label.sk-toggleable__label-arrow:before {color: black;}#sk-container-id-4 div.sk-toggleable__content {max-height: 0;max-width: 0;overflow: hidden;text-align: left;background-color: #f0f8ff;}#sk-container-id-4 div.sk-toggleable__content pre {margin: 0.2em;color: black;border-radius: 0.25em;background-color: #f0f8ff;}#sk-container-id-4 input.sk-toggleable__control:checked~div.sk-toggleable__content {max-height: 200px;max-width: 100%;overflow: auto;}#sk-container-id-4 input.sk-toggleable__control:checked~label.sk-toggleable__label-arrow:before {content: \"▾\";}#sk-container-id-4 div.sk-estimator input.sk-toggleable__control:checked~label.sk-toggleable__label {background-color: #d4ebff;}#sk-container-id-4 div.sk-label input.sk-toggleable__control:checked~label.sk-toggleable__label {background-color: #d4ebff;}#sk-container-id-4 input.sk-hidden--visually {border: 0;clip: rect(1px 1px 1px 1px);clip: rect(1px, 1px, 1px, 1px);height: 1px;margin: -1px;overflow: hidden;padding: 0;position: absolute;width: 1px;}#sk-container-id-4 div.sk-estimator {font-family: monospace;background-color: #f0f8ff;border: 1px dotted black;border-radius: 0.25em;box-sizing: border-box;margin-bottom: 0.5em;}#sk-container-id-4 div.sk-estimator:hover {background-color: #d4ebff;}#sk-container-id-4 div.sk-parallel-item::after {content: \"\";width: 100%;border-bottom: 1px solid gray;flex-grow: 1;}#sk-container-id-4 div.sk-label:hover label.sk-toggleable__label {background-color: #d4ebff;}#sk-container-id-4 div.sk-serial::before {content: \"\";position: absolute;border-left: 1px solid gray;box-sizing: border-box;top: 0;bottom: 0;left: 50%;z-index: 0;}#sk-container-id-4 div.sk-serial {display: flex;flex-direction: column;align-items: center;background-color: white;padding-right: 0.2em;padding-left: 0.2em;position: relative;}#sk-container-id-4 div.sk-item {position: relative;z-index: 1;}#sk-container-id-4 div.sk-parallel {display: flex;align-items: stretch;justify-content: center;background-color: white;position: relative;}#sk-container-id-4 div.sk-item::before, #sk-container-id-4 div.sk-parallel-item::before {content: \"\";position: absolute;border-left: 1px solid gray;box-sizing: border-box;top: 0;bottom: 0;left: 50%;z-index: -1;}#sk-container-id-4 div.sk-parallel-item {display: flex;flex-direction: column;z-index: 1;position: relative;background-color: white;}#sk-container-id-4 div.sk-parallel-item:first-child::after {align-self: flex-end;width: 50%;}#sk-container-id-4 div.sk-parallel-item:last-child::after {align-self: flex-start;width: 50%;}#sk-container-id-4 div.sk-parallel-item:only-child::after {width: 0;}#sk-container-id-4 div.sk-dashed-wrapped {border: 1px dashed gray;margin: 0 0.4em 0.5em 0.4em;box-sizing: border-box;padding-bottom: 0.4em;background-color: white;}#sk-container-id-4 div.sk-label label {font-family: monospace;font-weight: bold;display: inline-block;line-height: 1.2em;}#sk-container-id-4 div.sk-label-container {text-align: center;}#sk-container-id-4 div.sk-container {/* jupyter's `normalize.less` sets `[hidden] { display: none; }` but bootstrap.min.css set `[hidden] { display: none !important; }` so we also need the `!important` here to be able to override the default hidden behavior on the sphinx rendered scikit-learn.org. See: https://github.com/scikit-learn/scikit-learn/issues/21755 */display: inline-block !important;position: relative;}#sk-container-id-4 div.sk-text-repr-fallback {display: none;}</style><div id=\"sk-container-id-4\" class=\"sk-top-container\"><div class=\"sk-text-repr-fallback\"><pre>LinearRegression()</pre><b>In a Jupyter environment, please rerun this cell to show the HTML representation or trust the notebook. <br />On GitHub, the HTML representation is unable to render, please try loading this page with nbviewer.org.</b></div><div class=\"sk-container\" hidden><div class=\"sk-item\"><div class=\"sk-estimator sk-toggleable\"><input class=\"sk-toggleable__control sk-hidden--visually\" id=\"sk-estimator-id-4\" type=\"checkbox\" checked><label for=\"sk-estimator-id-4\" class=\"sk-toggleable__label sk-toggleable__label-arrow\">LinearRegression</label><div class=\"sk-toggleable__content\"><pre>LinearRegression()</pre></div></div></div></div></div>"
      ],
      "text/plain": [
       "LinearRegression()"
      ]
     },
     "execution_count": 71,
     "metadata": {},
     "output_type": "execute_result"
    }
   ],
   "source": [
    "reg = linear_model.LinearRegression()\n",
    "reg.fit(train_X,train_y)"
   ]
  },
  {
   "cell_type": "markdown",
   "metadata": {},
   "source": [
    "Slopes of optimum 4 dimensional curve."
   ]
  },
  {
   "cell_type": "code",
   "execution_count": 72,
   "metadata": {},
   "outputs": [
    {
     "data": {
      "text/plain": [
       "array([  1.92724406,   0.64827626, -20.59486577, -30.49577125])"
      ]
     },
     "execution_count": 72,
     "metadata": {},
     "output_type": "execute_result"
    }
   ],
   "source": [
    "reg.coef_"
   ]
  },
  {
   "cell_type": "markdown",
   "metadata": {},
   "source": [
    "Intercept of optimum 4 dimensional curve."
   ]
  },
  {
   "cell_type": "code",
   "execution_count": 73,
   "metadata": {},
   "outputs": [
    {
     "data": {
      "text/plain": [
       "106.69244366169843"
      ]
     },
     "execution_count": 73,
     "metadata": {},
     "output_type": "execute_result"
    }
   ],
   "source": [
    "reg.intercept_"
   ]
  },
  {
   "cell_type": "markdown",
   "metadata": {},
   "source": [
    "Predicting the %age of lucky days for testing data using the Multiple Linear Regression model."
   ]
  },
  {
   "cell_type": "code",
   "execution_count": 74,
   "metadata": {},
   "outputs": [
    {
     "data": {
      "text/plain": [
       "array([46.98916574, 71.66803539, 36.03880821, 71.03734384, 80.06045732,\n",
       "       80.67356415, 71.03734384, 45.32660686, 47.25385092, 17.40635592,\n",
       "       67.83113198, 71.03734384, 84.5632217 , 69.14526921, 59.46559154,\n",
       "       71.03734384, 72.33389636, 67.18285572, 69.14526921, 54.06745044,\n",
       "       80.06045732, 69.14526921, 50.82606915, 69.14526921, 71.6856201 ,\n",
       "       74.92700139, 67.84871669, 72.33389636, 67.84871669, 28.32154403,\n",
       "        9.67979496, 65.8863032 , 66.56974889, 29.58292712, 71.03734384,\n",
       "       74.90941668, 72.33389636, 53.66627465, 49.81178652, 71.03734384,\n",
       "       56.89007122, 71.03734384, 72.33389636, 42.75108654, 50.82606915,\n",
       "       72.33389636, 25.728439  , 78.13321325, 47.60227257, 37.96605227,\n",
       "       80.06045732, 50.82606915, 46.95399632, 32.86776577, 51.73903058,\n",
       "       72.33389636, 72.33389636, 67.84871669, 80.06045732, 43.39936279,\n",
       "       37.96605227, 69.11009978, 68.46182352, 50.82606915, 69.74079132,\n",
       "       72.33389636, 37.96605227, 45.02675225, 80.06045732, 79.37701163,\n",
       "       73.63044887, 46.95399632, 69.14526921, 67.84871669, 69.14526921,\n",
       "       34.77742512, 80.06045732, 38.00122169, 46.95399632, 62.06698451,\n",
       "       46.95399632, 69.14526921, 63.32836759, 38.64949795, 58.79973057,\n",
       "       44.41364542, 60.09628309, 72.9645879 , 26.35913054, 46.95399632,\n",
       "       50.82606915, 44.6783306 , 80.02528789, 43.74778445, 48.55040343,\n",
       "       69.77596075, 53.00041367])"
      ]
     },
     "execution_count": 74,
     "metadata": {},
     "output_type": "execute_result"
    }
   ],
   "source": [
    "predicted_y = reg.predict(test_X)\n",
    "predicted_y"
   ]
  },
  {
   "cell_type": "markdown",
   "metadata": {},
   "source": [
    "### CALCULATING ERROR"
   ]
  },
  {
   "cell_type": "code",
   "execution_count": 75,
   "metadata": {},
   "outputs": [
    {
     "name": "stdout",
     "output_type": "stream",
     "text": [
      "Mean Absolute Error: 13.860843586794802\n",
      "Root Mean Squared Error: 17.393245827524332\n"
     ]
    }
   ],
   "source": [
    "print('Mean Absolute Error:', metrics.mean_absolute_error(test_y,predicted_y))\n",
    "print('Root Mean Squared Error:', np.sqrt(metrics.mean_squared_error(test_y,predicted_y)))"
   ]
  },
  {
   "cell_type": "markdown",
   "metadata": {},
   "source": [
    "### CALCULATING R<sup>2</sup>"
   ]
  },
  {
   "cell_type": "code",
   "execution_count": 76,
   "metadata": {},
   "outputs": [
    {
     "data": {
      "text/plain": [
       "0.451729158287139"
      ]
     },
     "execution_count": 76,
     "metadata": {},
     "output_type": "execute_result"
    }
   ],
   "source": [
    "reg.score(test_X,test_y)"
   ]
  },
  {
   "cell_type": "markdown",
   "metadata": {},
   "source": [
    "> _The amount of GOOD LUCK coming your way depends on your WILLINGNESS TO ACT._"
   ]
  },
  {
   "cell_type": "markdown",
   "metadata": {},
   "source": [
    "### GOOD LUCK 😊\n",
    "\n",
    "You can find the web-app made to lucky day prediction using the information obtained from the above analysis at https://lucky-day-prediction.vercel.app/\n",
    "\n"
   ]
  }
 ],
 "metadata": {
  "kernelspec": {
   "display_name": "Python 3",
   "language": "python",
   "name": "python3"
  },
  "language_info": {
   "codemirror_mode": {
    "name": "ipython",
    "version": 3
   },
   "file_extension": ".py",
   "mimetype": "text/x-python",
   "name": "python",
   "nbconvert_exporter": "python",
   "pygments_lexer": "ipython3",
   "version": "3.11.3"
  },
  "orig_nbformat": 4
 },
 "nbformat": 4,
 "nbformat_minor": 2
}
